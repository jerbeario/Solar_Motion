{
 "cells": [
  {
   "cell_type": "markdown",
   "id": "1ba346bf",
   "metadata": {},
   "source": [
    "# Solar Motion Lab \n",
    "    Jeremy Palmerio \n",
    "    21/04/2023\n",
    "    \n",
    "Solar Motion data collected on the 14/04/2023 at  50°50'23.7 N, 5°42'27.3 E.\n",
    "See Lab Report for more info."
   ]
  },
  {
   "cell_type": "code",
   "execution_count": 205,
   "id": "2bead4c8",
   "metadata": {},
   "outputs": [],
   "source": [
    "import pandas as pd \n",
    "import matplotlib.pyplot as plt\n",
    "import numpy as np\n",
    "import time\n",
    "from scipy.optimize import curve_fit\n",
    "from sklearn.preprocessing import StandardScaler\n",
    "import datetime"
   ]
  },
  {
   "cell_type": "code",
   "execution_count": 279,
   "id": "6002af65",
   "metadata": {},
   "outputs": [
    {
     "data": {
      "text/html": [
       "<div>\n",
       "<style scoped>\n",
       "    .dataframe tbody tr th:only-of-type {\n",
       "        vertical-align: middle;\n",
       "    }\n",
       "\n",
       "    .dataframe tbody tr th {\n",
       "        vertical-align: top;\n",
       "    }\n",
       "\n",
       "    .dataframe thead th {\n",
       "        text-align: right;\n",
       "    }\n",
       "</style>\n",
       "<table border=\"1\" class=\"dataframe\">\n",
       "  <thead>\n",
       "    <tr style=\"text-align: right;\">\n",
       "      <th></th>\n",
       "      <th>time</th>\n",
       "      <th>little stick shadow lenght (cm)</th>\n",
       "      <th>little stick angle (degrees)</th>\n",
       "      <th>big stick shadow lenght (cm)</th>\n",
       "      <th>big stick angle (degrees)</th>\n",
       "      <th>lenght of long stick (cm)</th>\n",
       "      <th>lenght of short (cm)</th>\n",
       "      <th>thickness of long stick (cm)</th>\n",
       "      <th>thickness of small stick (cm)</th>\n",
       "      <th>date</th>\n",
       "    </tr>\n",
       "  </thead>\n",
       "  <tbody>\n",
       "    <tr>\n",
       "      <th>0</th>\n",
       "      <td>11:48:36</td>\n",
       "      <td>22.5</td>\n",
       "      <td>51.5</td>\n",
       "      <td>48.40</td>\n",
       "      <td>51.25</td>\n",
       "      <td>43.6</td>\n",
       "      <td>20.9</td>\n",
       "      <td>1.25</td>\n",
       "      <td>0.4</td>\n",
       "      <td>14/04/2023</td>\n",
       "    </tr>\n",
       "    <tr>\n",
       "      <th>1</th>\n",
       "      <td>12:00:26</td>\n",
       "      <td>21.6</td>\n",
       "      <td>55.0</td>\n",
       "      <td>46.45</td>\n",
       "      <td>55.50</td>\n",
       "      <td>NaN</td>\n",
       "      <td>NaN</td>\n",
       "      <td>NaN</td>\n",
       "      <td>NaN</td>\n",
       "      <td>NaN</td>\n",
       "    </tr>\n",
       "    <tr>\n",
       "      <th>2</th>\n",
       "      <td>12:19:00</td>\n",
       "      <td>20.7</td>\n",
       "      <td>61.0</td>\n",
       "      <td>44.40</td>\n",
       "      <td>61.10</td>\n",
       "      <td>NaN</td>\n",
       "      <td>NaN</td>\n",
       "      <td>NaN</td>\n",
       "      <td>NaN</td>\n",
       "      <td>NaN</td>\n",
       "    </tr>\n",
       "    <tr>\n",
       "      <th>3</th>\n",
       "      <td>12:46:30</td>\n",
       "      <td>19.5</td>\n",
       "      <td>70.5</td>\n",
       "      <td>42.25</td>\n",
       "      <td>69.00</td>\n",
       "      <td>NaN</td>\n",
       "      <td>NaN</td>\n",
       "      <td>NaN</td>\n",
       "      <td>NaN</td>\n",
       "      <td>NaN</td>\n",
       "    </tr>\n",
       "    <tr>\n",
       "      <th>4</th>\n",
       "      <td>12:57:30</td>\n",
       "      <td>19.3</td>\n",
       "      <td>74.5</td>\n",
       "      <td>41.20</td>\n",
       "      <td>74.00</td>\n",
       "      <td>NaN</td>\n",
       "      <td>NaN</td>\n",
       "      <td>NaN</td>\n",
       "      <td>NaN</td>\n",
       "      <td>NaN</td>\n",
       "    </tr>\n",
       "    <tr>\n",
       "      <th>5</th>\n",
       "      <td>13:20:45</td>\n",
       "      <td>18.7</td>\n",
       "      <td>83.0</td>\n",
       "      <td>40.20</td>\n",
       "      <td>83.00</td>\n",
       "      <td>NaN</td>\n",
       "      <td>NaN</td>\n",
       "      <td>NaN</td>\n",
       "      <td>NaN</td>\n",
       "      <td>NaN</td>\n",
       "    </tr>\n",
       "    <tr>\n",
       "      <th>6</th>\n",
       "      <td>13:37:50</td>\n",
       "      <td>NaN</td>\n",
       "      <td>NaN</td>\n",
       "      <td>39.80</td>\n",
       "      <td>89.00</td>\n",
       "      <td>NaN</td>\n",
       "      <td>NaN</td>\n",
       "      <td>NaN</td>\n",
       "      <td>NaN</td>\n",
       "      <td>NaN</td>\n",
       "    </tr>\n",
       "    <tr>\n",
       "      <th>7</th>\n",
       "      <td>14:02:30</td>\n",
       "      <td>18.8</td>\n",
       "      <td>98.0</td>\n",
       "      <td>40.45</td>\n",
       "      <td>98.00</td>\n",
       "      <td>NaN</td>\n",
       "      <td>NaN</td>\n",
       "      <td>NaN</td>\n",
       "      <td>NaN</td>\n",
       "      <td>NaN</td>\n",
       "    </tr>\n",
       "    <tr>\n",
       "      <th>8</th>\n",
       "      <td>14:26:00</td>\n",
       "      <td>19.7</td>\n",
       "      <td>106.5</td>\n",
       "      <td>41.60</td>\n",
       "      <td>106.00</td>\n",
       "      <td>NaN</td>\n",
       "      <td>NaN</td>\n",
       "      <td>NaN</td>\n",
       "      <td>NaN</td>\n",
       "      <td>NaN</td>\n",
       "    </tr>\n",
       "    <tr>\n",
       "      <th>9</th>\n",
       "      <td>14:45:00</td>\n",
       "      <td>20.3</td>\n",
       "      <td>114.0</td>\n",
       "      <td>42.60</td>\n",
       "      <td>113.00</td>\n",
       "      <td>NaN</td>\n",
       "      <td>NaN</td>\n",
       "      <td>NaN</td>\n",
       "      <td>NaN</td>\n",
       "      <td>NaN</td>\n",
       "    </tr>\n",
       "    <tr>\n",
       "      <th>10</th>\n",
       "      <td>15:09:30</td>\n",
       "      <td>21.2(or 21.6)</td>\n",
       "      <td>122.0</td>\n",
       "      <td>45.50</td>\n",
       "      <td>121.00</td>\n",
       "      <td>NaN</td>\n",
       "      <td>NaN</td>\n",
       "      <td>NaN</td>\n",
       "      <td>NaN</td>\n",
       "      <td>NaN</td>\n",
       "    </tr>\n",
       "  </tbody>\n",
       "</table>\n",
       "</div>"
      ],
      "text/plain": [
       "        time little stick shadow lenght (cm)  little stick angle (degrees)  \\\n",
       "0   11:48:36                            22.5                          51.5   \n",
       "1   12:00:26                            21.6                          55.0   \n",
       "2   12:19:00                            20.7                          61.0   \n",
       "3   12:46:30                            19.5                          70.5   \n",
       "4   12:57:30                            19.3                          74.5   \n",
       "5   13:20:45                            18.7                          83.0   \n",
       "6   13:37:50                             NaN                           NaN   \n",
       "7   14:02:30                            18.8                          98.0   \n",
       "8   14:26:00                            19.7                         106.5   \n",
       "9   14:45:00                            20.3                         114.0   \n",
       "10  15:09:30                   21.2(or 21.6)                         122.0   \n",
       "\n",
       "    big stick shadow lenght (cm)  big stick angle (degrees)  \\\n",
       "0                          48.40                      51.25   \n",
       "1                          46.45                      55.50   \n",
       "2                          44.40                      61.10   \n",
       "3                          42.25                      69.00   \n",
       "4                          41.20                      74.00   \n",
       "5                          40.20                      83.00   \n",
       "6                          39.80                      89.00   \n",
       "7                          40.45                      98.00   \n",
       "8                          41.60                     106.00   \n",
       "9                          42.60                     113.00   \n",
       "10                         45.50                     121.00   \n",
       "\n",
       "    lenght of long stick (cm)  lenght of short (cm)  \\\n",
       "0                        43.6                  20.9   \n",
       "1                         NaN                   NaN   \n",
       "2                         NaN                   NaN   \n",
       "3                         NaN                   NaN   \n",
       "4                         NaN                   NaN   \n",
       "5                         NaN                   NaN   \n",
       "6                         NaN                   NaN   \n",
       "7                         NaN                   NaN   \n",
       "8                         NaN                   NaN   \n",
       "9                         NaN                   NaN   \n",
       "10                        NaN                   NaN   \n",
       "\n",
       "    thickness of long stick (cm)  thickness of small stick (cm)        date  \n",
       "0                           1.25                            0.4  14/04/2023  \n",
       "1                            NaN                            NaN         NaN  \n",
       "2                            NaN                            NaN         NaN  \n",
       "3                            NaN                            NaN         NaN  \n",
       "4                            NaN                            NaN         NaN  \n",
       "5                            NaN                            NaN         NaN  \n",
       "6                            NaN                            NaN         NaN  \n",
       "7                            NaN                            NaN         NaN  \n",
       "8                            NaN                            NaN         NaN  \n",
       "9                            NaN                            NaN         NaN  \n",
       "10                           NaN                            NaN         NaN  "
      ]
     },
     "execution_count": 279,
     "metadata": {},
     "output_type": "execute_result"
    }
   ],
   "source": [
    "df = pd.read_csv('solar_motion_data.csv')\n",
    "df"
   ]
  },
  {
   "cell_type": "code",
   "execution_count": 280,
   "id": "7488b0d7",
   "metadata": {},
   "outputs": [
    {
     "name": "stdout",
     "output_type": "stream",
     "text": [
      "\\begin{tabular}{llrr}\n",
      " & time & big stick shadow lenght (cm) & big stick angle (degrees) \\\\\n",
      "0 & 11:48:36 & 48.400000 & 51.250000 \\\\\n",
      "1 & 12:00:26 & 46.450000 & 55.500000 \\\\\n",
      "2 & 12:19:00 & 44.400000 & 61.100000 \\\\\n",
      "3 & 12:46:30 & 42.250000 & 69.000000 \\\\\n",
      "4 & 12:57:30 & 41.200000 & 74.000000 \\\\\n",
      "5 & 13:20:45 & 40.200000 & 83.000000 \\\\\n",
      "6 & 13:37:50 & 39.800000 & 89.000000 \\\\\n",
      "7 & 14:02:30 & 40.450000 & 98.000000 \\\\\n",
      "8 & 14:26:00 & 41.600000 & 106.000000 \\\\\n",
      "9 & 14:45:00 & 42.600000 & 113.000000 \\\\\n",
      "10 & 15:09:30 & 45.500000 & 121.000000 \\\\\n",
      "\\end{tabular}\n",
      "\n"
     ]
    }
   ],
   "source": [
    "latex_df = df.loc[:, ['time', 'big stick shadow lenght (cm)', 'big stick angle (degrees)']]\n",
    "print(latex_df.style.to_latex())"
   ]
  },
  {
   "cell_type": "markdown",
   "id": "47812318",
   "metadata": {},
   "source": [
    "# Big Stick Analysis\n",
    "\n",
    "### Estimatation of local sunrise, noon and sunset\n",
    "\n",
    "\n"
   ]
  },
  {
   "cell_type": "code",
   "execution_count": 281,
   "id": "461c186e",
   "metadata": {},
   "outputs": [
    {
     "data": {
      "text/plain": [
       "[<matplotlib.lines.Line2D at 0x7f95818efb20>]"
      ]
     },
     "execution_count": 281,
     "metadata": {},
     "output_type": "execute_result"
    },
    {
     "data": {
      "image/png": "[encoded data removed]",
      "text/plain": [
       "<Figure size 432x288 with 1 Axes>"
      ]
     },
     "metadata": {
      "needs_background": "light"
     },
     "output_type": "display_data"
    }
   ],
   "source": [
    "theta = df['big stick angle (degrees)']*np.pi/180\n",
    "r = df['big stick shadow lenght (cm)']\n",
    "\n",
    "x = r*np.cos(theta)\n",
    "y = r*np.sin(theta)\n",
    "\n",
    "fig, ax = plt.subplots()\n",
    "ax.set_ylim(bottom = 0, top = 50)\n",
    "\n",
    "ax.plot(x, y)"
   ]
  },
  {
   "cell_type": "code",
   "execution_count": 282,
   "id": "1dd38854",
   "metadata": {},
   "outputs": [
    {
     "data": {
      "text/plain": [
       "0     0.900826\n",
       "1     0.938644\n",
       "2     0.981982\n",
       "3     1.031953\n",
       "4     1.058252\n",
       "5     1.084577\n",
       "6     1.095477\n",
       "7     1.077874\n",
       "8     1.048077\n",
       "9     1.023474\n",
       "10    0.958242\n",
       "Name: long ratio, dtype: float64"
      ]
     },
     "execution_count": 282,
     "metadata": {},
     "output_type": "execute_result"
    }
   ],
   "source": [
    "df['long ratio'] = df['lenght of long stick (cm)'][0]/df['big stick shadow lenght (cm)']\n",
    "df['long ratio']"
   ]
  },
  {
   "cell_type": "code",
   "execution_count": 283,
   "id": "1de88368",
   "metadata": {},
   "outputs": [],
   "source": [
    "df['time'] = df['time'].apply(lambda x: '14-04-2023 ' + x)"
   ]
  },
  {
   "cell_type": "code",
   "execution_count": 284,
   "id": "ef5189ad",
   "metadata": {},
   "outputs": [],
   "source": [
    "df['time'] = pd.to_datetime(df['time'], format='%d-%m-%Y %H:%M:%S')\n",
    "df['time'] = df['time'].apply(lambda x: int(time.mktime(x.timetuple()))).astype(int)"
   ]
  },
  {
   "cell_type": "code",
   "execution_count": 285,
   "id": "b5838a98",
   "metadata": {},
   "outputs": [],
   "source": [
    "df['altitude (degrees)'] = np.arctan(df['long ratio'])*180/np.pi"
   ]
  },
  {
   "cell_type": "code",
   "execution_count": 294,
   "id": "88847b34",
   "metadata": {
    "scrolled": true
   },
   "outputs": [
    {
     "name": "stderr",
     "output_type": "stream",
     "text": [
      "/Users/jeremypalmerio/opt/miniconda3/envs/py3/lib/python3.10/site-packages/scipy/optimize/minpack.py:833: OptimizeWarning: Covariance of the parameters could not be estimated\n",
      "  warnings.warn('Covariance of the parameters could not be estimated',\n"
     ]
    },
    {
     "data": {
      "image/png": "[encoded data removed]",
      "text/plain": [
       "<Figure size 720x432 with 2 Axes>"
      ]
     },
     "metadata": {
      "needs_background": "light"
     },
     "output_type": "display_data"
    }
   ],
   "source": [
    "#my solar data \n",
    "x = df['time']\n",
    "y = df['altitude (degrees)']\n",
    "plt.figure(figsize=(10,6))\n",
    "\n",
    "\n",
    "scaler_x = StandardScaler()\n",
    "x_norm = scaler_x.fit_transform(x.values.reshape(-1, 1)).ravel()\n",
    "\n",
    "scaler_y = StandardScaler()\n",
    "y_norm = scaler_y.fit_transform(y.values.reshape(-1, 1)).ravel()\n",
    "\n",
    "popt_norm, pcov_norm = curve_fit(func, x_norm, y_norm)\n",
    "\n",
    "a_norm, b_norm, c_norm = popt_norm\n",
    "a = float(scaler_y.scale_ / scaler_x.scale_**2 * a_norm)\n",
    "b = float(scaler_y.scale_ / scaler_x.scale_ * b_norm - scaler_x.mean_ * scaler_y.scale_ / scaler_x.scale_**2 * a_norm - scaler_x.mean_ * a)\n",
    "c = float(scaler_y.mean_ + scaler_y.scale_ * c_norm - scaler_x.mean_**2 * a - scaler_x.mean_ * b)\n",
    "\n",
    "#actual solar data\n",
    "sunrise = to_unix(\"6:45:17\")\n",
    "local_noon = to_unix(\"13:37:31\")\n",
    "sunset = to_unix(\"20:30:50\")\n",
    "\n",
    "sun_x = pd.Series([sunrise, local_noon, sunset])\n",
    "sun_y = pd.Series([0, 48.54, 0])\n",
    "\n",
    "\n",
    "scaler_x = StandardScaler()\n",
    "x_norm_sun = scaler_x.fit_transform(sun_x.values.reshape(-1, 1)).ravel()\n",
    "\n",
    "scaler_y = StandardScaler()\n",
    "y_norm_sun = scaler_y.fit_transform(sun_y.values.reshape(-1, 1)).ravel()\n",
    "\n",
    "popt_norm_sun, pcov_norm_sun = curve_fit(func, x_norm_sun, y_norm_sun)\n",
    "\n",
    "a_norm_sun, b_norm_sun, c_norm_sun = popt_norm_sun\n",
    "a_sun = float(scaler_y.scale_ / scaler_x.scale_**2 * a_norm_sun)\n",
    "b_sun = float(scaler_y.scale_ / scaler_x.scale_ * b_norm_sun - scaler_x.mean_ * scaler_y.scale_ / scaler_x.scale_**2 * a_norm_sun - scaler_x.mean_ * a_sun)\n",
    "c_sun = float(scaler_y.mean_ + scaler_y.scale_ * c_norm_sun - scaler_x.mean_**2 * a_sun - scaler_x.mean_ * b_sun)\n",
    "\n",
    "\n",
    "\n",
    "#plotting my data\n",
    "plt.scatter(x, y, label='exp. solar data')\n",
    "curve_x = np.linspace(to_unix(\"5:00:00\"), to_unix(\"22:00:00\"))\n",
    "plt.plot(curve_x, func(curve_x, a, b, c), 'b', label='Data Curve Fit')\n",
    "plt.xlim(to_unix(\"5:00:00\"), to_unix(\"22:00:00\"))\n",
    "\n",
    "#plotting actual sun data\n",
    "plt.scatter(sun_x, sun_y, label= 'act. solar data')\n",
    "plt.plot(curve_x, func(curve_x, a_sun, b_sun, c_sun), color='orange', label='Actual Solar Trajectory')\n",
    "plt.xlim(to_unix(\"5:00:00\"), to_unix(\"22:00:00\"))\n",
    "\n",
    "#plotting error\n",
    "error = abs(y-func(x, a_sun, b_sun, c_sun))\n",
    "ax1 = plt.gca()  # get current axis\n",
    "ax2 = ax1.twinx()  # create second y-axis\n",
    "ax2.stem(x, error,markerfmt= '*', label='Error')\n",
    "ax2.set_ylabel('Error')\n",
    "ax2.set_ylim(0,8)\n",
    "ax1.set_ylim(0,50)\n",
    "ax1.set_xlabel('time (unix)')\n",
    "ax1.set_ylabel('Altitude of the sun (degrees)')\n",
    "ax2.set_ylabel('Error (degrees)')\n",
    "\n",
    "\n",
    "ax1.legend(loc='upper left')\n",
    "ax2.legend(loc='upper right')\n",
    "plt.savefig(\"Elevation.png\")\n",
    "plt.show()\n",
    "\n"
   ]
  },
  {
   "cell_type": "code",
   "execution_count": 318,
   "id": "2e58a3af",
   "metadata": {},
   "outputs": [
    {
     "data": {
      "text/plain": [
       "'2023-04-14 13:39:37'"
      ]
     },
     "execution_count": 318,
     "metadata": {},
     "output_type": "execute_result"
    }
   ],
   "source": [
    "est_local_noon = np.roots([2*a, b])[0]\n",
    "func(est_local_noon, a_sun, b_sun, c_sun)\n",
    "unix_to_localtime(est_local_noon)"
   ]
  },
  {
   "cell_type": "code",
   "execution_count": 310,
   "id": "9cad127a",
   "metadata": {},
   "outputs": [
    {
     "data": {
      "text/plain": [
       "'2023-04-14 13:39:37'"
      ]
     },
     "execution_count": 310,
     "metadata": {},
     "output_type": "execute_result"
    }
   ],
   "source": [
    "roots = np.roots((2*a, b))\n",
    "unix_to_localtime(roots[0])\n"
   ]
  },
  {
   "cell_type": "code",
   "execution_count": 112,
   "id": "b58c575e",
   "metadata": {},
   "outputs": [],
   "source": [
    "def func(x, a, b, c):\n",
    "    return a*x**2 + b*x + c \n"
   ]
  },
  {
   "cell_type": "code",
   "execution_count": 101,
   "id": "72deae91",
   "metadata": {},
   "outputs": [],
   "source": [
    "def to_unix(local_time):\n",
    "    date_string = \"2023-04-14 \"\n",
    "    date_string+=local_time\n",
    "# Convert the string to a Pandas datetime object\n",
    "    datetime_obj = pd.to_datetime(date_string)\n",
    "\n",
    "# Convert the datetime object to Unix time\n",
    "    unix_time = int(time.mktime(datetime_obj.timetuple()))\n",
    "    return unix_time"
   ]
  },
  {
   "cell_type": "code",
   "execution_count": 149,
   "id": "00a41481",
   "metadata": {},
   "outputs": [],
   "source": [
    "def unix_to_localtime(unix_timestamp):\n",
    "    # Convert the Unix timestamp to a datetime object\n",
    "    utc_time = datetime.datetime.utcfromtimestamp(unix_timestamp)\n",
    "\n",
    "    # Convert the datetime object to the local timezone\n",
    "    local_time = utc_time.replace(tzinfo=datetime.timezone.utc).astimezone(tz=None)\n",
    "\n",
    "    # Return the local time as a string\n",
    "    return local_time.strftime('%Y-%m-%d %H:%M:%S')"
   ]
  },
  {
   "cell_type": "code",
   "execution_count": 151,
   "id": "f94dac6b",
   "metadata": {},
   "outputs": [
    {
     "data": {
      "text/plain": [
       "'2023-04-14 15:00:00'"
      ]
     },
     "execution_count": 151,
     "metadata": {},
     "output_type": "execute_result"
    }
   ],
   "source": [
    "unix_to_localtime(to_unix(\"15:00:00\"))"
   ]
  },
  {
   "cell_type": "markdown",
   "id": "8badf132",
   "metadata": {},
   "source": [
    "### Estimating the Azimuth angle of the Sun\n"
   ]
  },
  {
   "cell_type": "code",
   "execution_count": 290,
   "id": "b89739f8",
   "metadata": {},
   "outputs": [],
   "source": [
    "df[\"azimuth (degrees)\"] = df['big stick angle (degrees)']+90"
   ]
  },
  {
   "cell_type": "code",
   "execution_count": 291,
   "id": "2bbe9cf5",
   "metadata": {
    "scrolled": true
   },
   "outputs": [
    {
     "data": {
      "image/png": "[encoded data removed]",
      "text/plain": [
       "<Figure size 432x288 with 1 Axes>"
      ]
     },
     "metadata": {
      "needs_background": "light"
     },
     "output_type": "display_data"
    }
   ],
   "source": [
    "#my data\n",
    "y = df['azimuth (degrees)']\n",
    "plt.scatter(x, y, label= 'exp. data points')\n",
    "plt.xlim(to_unix(\"5:00:00\"), to_unix(\"22:00:00\"))\n",
    "plt.ylim(60, 300)\n",
    "\n",
    "\n",
    "popt_lin, pcov_lin = curve_fit(linfunc, x, y)\n",
    "plt.plot(curve_x, linfunc(curve_x, *popt_lin), label = 'Experimental sun azimuth fit')\n",
    "\n",
    "\n",
    "#actual solar data\n",
    "azimuth = pd.Series([74, 180, 286])\n",
    "sun_time = sun_x\n",
    "plt.scatter(sun_x,azimuth, label = \"act. data points\")\n",
    "\n",
    "popt_lin_sun, pcov_lin_sun = curve_fit(linfunc, sun_time, azimuth)\n",
    "plt.plot(curve_x, linfunc(curve_x, *popt_lin_sun), label = \"Actual sun azimuth fit\")\n",
    "plt.legend()\n",
    "plt.xlabel('time (unix)')\n",
    "plt.ylabel('Azimuth angle (degrees)')\n",
    "plt.savefig(\"Azimuth.png\")"
   ]
  },
  {
   "cell_type": "code",
   "execution_count": 199,
   "id": "c396d262",
   "metadata": {},
   "outputs": [
    {
     "name": "stdout",
     "output_type": "stream",
     "text": [
      "33.822512708604336\n",
      "178.79921576939523\n",
      "324.1569120269269\n"
     ]
    }
   ],
   "source": [
    "print(linfunc(sunrise, *popt_lin))\n",
    "print(linfunc(local_noon, *popt_lin))\n",
    "print(linfunc(sunset, *popt_lin))\n"
   ]
  },
  {
   "cell_type": "code",
   "execution_count": 201,
   "id": "a8c538c2",
   "metadata": {},
   "outputs": [
    {
     "data": {
      "text/plain": [
       "('2023-04-14 06:45:17', '2023-04-14 13:37:31', '2023-04-14 20:30:50')"
      ]
     },
     "execution_count": 201,
     "metadata": {},
     "output_type": "execute_result"
    }
   ],
   "source": [
    "unix_to_localtime(sunrise), unix_to_localtime(local_noon), unix_to_localtime(sunset)"
   ]
  },
  {
   "cell_type": "code",
   "execution_count": 187,
   "id": "d8d1af46",
   "metadata": {},
   "outputs": [],
   "source": [
    "def linfunc(x, a, b):\n",
    "    return a*x+b"
   ]
  },
  {
   "cell_type": "code",
   "execution_count": null,
   "id": "55260fcb",
   "metadata": {},
   "outputs": [],
   "source": []
  }
 ],
 "metadata": {
  "kernelspec": {
   "display_name": "Python 3 (ipykernel)",
   "language": "python",
   "name": "python3"
  },
  "language_info": {
   "codemirror_mode": {
    "name": "ipython",
    "version": 3
   },
   "file_extension": ".py",
   "mimetype": "text/x-python",
   "name": "python",
   "nbconvert_exporter": "python",
   "pygments_lexer": "ipython3",
   "version": "3.10.0"
  }
 },
 "nbformat": 4,
 "nbformat_minor": 5
}
